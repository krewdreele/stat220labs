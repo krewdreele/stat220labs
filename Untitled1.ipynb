{
  "cells": [
    {
      "cell_type": "code",
      "execution_count": 17,
      "metadata": {
        "id": "8VUeSmQTuCHZ"
      },
      "outputs": [],
      "source": [
        "import pandas as pd\n",
        "import matplotlib.pyplot as plt\n",
        "from sklearn.linear_model import LinearRegression\n",
        "import numpy as np\n",
        "salaries = pd.read_csv(\"https://richardson.byu.edu/220/ds_salary.csv\")\n"
      ]
    },
    {
      "cell_type": "markdown",
      "metadata": {},
      "source": [
        "# Section 1: General Salary Data"
      ]
    },
    {
      "cell_type": "code",
      "execution_count": 6,
      "metadata": {
        "colab": {
          "base_uri": "https://localhost:8080/",
          "height": 475
        },
        "id": "AzB7HLl8uaxm",
        "outputId": "1e5f5cd8-4db9-4ca6-96bd-d6c2ed15b9a1"
      },
      "outputs": [
        {
          "data": {
            "text/html": [
              "<div>\n",
              "<style scoped>\n",
              "    .dataframe tbody tr th:only-of-type {\n",
              "        vertical-align: middle;\n",
              "    }\n",
              "\n",
              "    .dataframe tbody tr th {\n",
              "        vertical-align: top;\n",
              "    }\n",
              "\n",
              "    .dataframe thead th {\n",
              "        text-align: right;\n",
              "    }\n",
              "</style>\n",
              "<table border=\"1\" class=\"dataframe\">\n",
              "  <thead>\n",
              "    <tr style=\"text-align: right;\">\n",
              "      <th></th>\n",
              "      <th>...1</th>\n",
              "      <th>work_year</th>\n",
              "      <th>experience_level</th>\n",
              "      <th>employment_type</th>\n",
              "      <th>job_title</th>\n",
              "      <th>salary</th>\n",
              "      <th>salary_currency</th>\n",
              "      <th>salary_in_usd</th>\n",
              "      <th>employee_residence</th>\n",
              "      <th>remote_ratio</th>\n",
              "      <th>company_location</th>\n",
              "      <th>company_size</th>\n",
              "    </tr>\n",
              "  </thead>\n",
              "  <tbody>\n",
              "    <tr>\n",
              "      <th>0</th>\n",
              "      <td>0</td>\n",
              "      <td>2020</td>\n",
              "      <td>MI</td>\n",
              "      <td>FT</td>\n",
              "      <td>Data Scientist</td>\n",
              "      <td>70000</td>\n",
              "      <td>EUR</td>\n",
              "      <td>79833</td>\n",
              "      <td>DE</td>\n",
              "      <td>0</td>\n",
              "      <td>DE</td>\n",
              "      <td>L</td>\n",
              "    </tr>\n",
              "    <tr>\n",
              "      <th>1</th>\n",
              "      <td>1</td>\n",
              "      <td>2020</td>\n",
              "      <td>SE</td>\n",
              "      <td>FT</td>\n",
              "      <td>Machine Learning Scientist</td>\n",
              "      <td>260000</td>\n",
              "      <td>USD</td>\n",
              "      <td>260000</td>\n",
              "      <td>JP</td>\n",
              "      <td>0</td>\n",
              "      <td>JP</td>\n",
              "      <td>S</td>\n",
              "    </tr>\n",
              "    <tr>\n",
              "      <th>2</th>\n",
              "      <td>2</td>\n",
              "      <td>2020</td>\n",
              "      <td>SE</td>\n",
              "      <td>FT</td>\n",
              "      <td>Big Data Engineer</td>\n",
              "      <td>85000</td>\n",
              "      <td>GBP</td>\n",
              "      <td>109024</td>\n",
              "      <td>GB</td>\n",
              "      <td>50</td>\n",
              "      <td>GB</td>\n",
              "      <td>M</td>\n",
              "    </tr>\n",
              "    <tr>\n",
              "      <th>3</th>\n",
              "      <td>3</td>\n",
              "      <td>2020</td>\n",
              "      <td>MI</td>\n",
              "      <td>FT</td>\n",
              "      <td>Product Data Analyst</td>\n",
              "      <td>20000</td>\n",
              "      <td>USD</td>\n",
              "      <td>20000</td>\n",
              "      <td>HN</td>\n",
              "      <td>0</td>\n",
              "      <td>HN</td>\n",
              "      <td>S</td>\n",
              "    </tr>\n",
              "    <tr>\n",
              "      <th>4</th>\n",
              "      <td>4</td>\n",
              "      <td>2020</td>\n",
              "      <td>SE</td>\n",
              "      <td>FT</td>\n",
              "      <td>Machine Learning Engineer</td>\n",
              "      <td>150000</td>\n",
              "      <td>USD</td>\n",
              "      <td>150000</td>\n",
              "      <td>US</td>\n",
              "      <td>50</td>\n",
              "      <td>US</td>\n",
              "      <td>L</td>\n",
              "    </tr>\n",
              "    <tr>\n",
              "      <th>5</th>\n",
              "      <td>5</td>\n",
              "      <td>2020</td>\n",
              "      <td>EN</td>\n",
              "      <td>FT</td>\n",
              "      <td>Data Analyst</td>\n",
              "      <td>72000</td>\n",
              "      <td>USD</td>\n",
              "      <td>72000</td>\n",
              "      <td>US</td>\n",
              "      <td>100</td>\n",
              "      <td>US</td>\n",
              "      <td>L</td>\n",
              "    </tr>\n",
              "    <tr>\n",
              "      <th>6</th>\n",
              "      <td>6</td>\n",
              "      <td>2020</td>\n",
              "      <td>SE</td>\n",
              "      <td>FT</td>\n",
              "      <td>Lead Data Scientist</td>\n",
              "      <td>190000</td>\n",
              "      <td>USD</td>\n",
              "      <td>190000</td>\n",
              "      <td>US</td>\n",
              "      <td>100</td>\n",
              "      <td>US</td>\n",
              "      <td>S</td>\n",
              "    </tr>\n",
              "    <tr>\n",
              "      <th>7</th>\n",
              "      <td>8</td>\n",
              "      <td>2020</td>\n",
              "      <td>MI</td>\n",
              "      <td>FT</td>\n",
              "      <td>Business Data Analyst</td>\n",
              "      <td>135000</td>\n",
              "      <td>USD</td>\n",
              "      <td>135000</td>\n",
              "      <td>US</td>\n",
              "      <td>100</td>\n",
              "      <td>US</td>\n",
              "      <td>L</td>\n",
              "    </tr>\n",
              "    <tr>\n",
              "      <th>8</th>\n",
              "      <td>9</td>\n",
              "      <td>2020</td>\n",
              "      <td>SE</td>\n",
              "      <td>FT</td>\n",
              "      <td>Lead Data Engineer</td>\n",
              "      <td>125000</td>\n",
              "      <td>USD</td>\n",
              "      <td>125000</td>\n",
              "      <td>NZ</td>\n",
              "      <td>50</td>\n",
              "      <td>NZ</td>\n",
              "      <td>S</td>\n",
              "    </tr>\n",
              "    <tr>\n",
              "      <th>9</th>\n",
              "      <td>10</td>\n",
              "      <td>2020</td>\n",
              "      <td>EN</td>\n",
              "      <td>FT</td>\n",
              "      <td>Data Scientist</td>\n",
              "      <td>45000</td>\n",
              "      <td>EUR</td>\n",
              "      <td>51321</td>\n",
              "      <td>FR</td>\n",
              "      <td>0</td>\n",
              "      <td>FR</td>\n",
              "      <td>S</td>\n",
              "    </tr>\n",
              "  </tbody>\n",
              "</table>\n",
              "</div>"
            ],
            "text/plain": [
              "   ...1  work_year experience_level employment_type  \\\n",
              "0     0       2020               MI              FT   \n",
              "1     1       2020               SE              FT   \n",
              "2     2       2020               SE              FT   \n",
              "3     3       2020               MI              FT   \n",
              "4     4       2020               SE              FT   \n",
              "5     5       2020               EN              FT   \n",
              "6     6       2020               SE              FT   \n",
              "7     8       2020               MI              FT   \n",
              "8     9       2020               SE              FT   \n",
              "9    10       2020               EN              FT   \n",
              "\n",
              "                    job_title  salary salary_currency  salary_in_usd  \\\n",
              "0              Data Scientist   70000             EUR          79833   \n",
              "1  Machine Learning Scientist  260000             USD         260000   \n",
              "2           Big Data Engineer   85000             GBP         109024   \n",
              "3        Product Data Analyst   20000             USD          20000   \n",
              "4   Machine Learning Engineer  150000             USD         150000   \n",
              "5                Data Analyst   72000             USD          72000   \n",
              "6         Lead Data Scientist  190000             USD         190000   \n",
              "7       Business Data Analyst  135000             USD         135000   \n",
              "8          Lead Data Engineer  125000             USD         125000   \n",
              "9              Data Scientist   45000             EUR          51321   \n",
              "\n",
              "  employee_residence  remote_ratio company_location company_size  \n",
              "0                 DE             0               DE            L  \n",
              "1                 JP             0               JP            S  \n",
              "2                 GB            50               GB            M  \n",
              "3                 HN             0               HN            S  \n",
              "4                 US            50               US            L  \n",
              "5                 US           100               US            L  \n",
              "6                 US           100               US            S  \n",
              "7                 US           100               US            L  \n",
              "8                 NZ            50               NZ            S  \n",
              "9                 FR             0               FR            S  "
            ]
          },
          "execution_count": 6,
          "metadata": {},
          "output_type": "execute_result"
        }
      ],
      "source": [
        "salaries.head(10)\n",
        "\n",
        "#Analyze how data scientist salaries varies in relation to\n",
        "#EXPERIENCE (experience_level), COMPANY SIZE (company_size), and JOB (job_title)"
      ]
    },
    {
      "cell_type": "code",
      "execution_count": 19,
      "metadata": {
        "id": "orR8QM5svOIh"
      },
      "outputs": [
        {
          "data": {
            "text/plain": [
              "count       581.000000\n",
              "mean     115601.769363\n",
              "std       70607.253360\n",
              "min        2859.000000\n",
              "25%       66022.000000\n",
              "50%      105000.000000\n",
              "75%      150260.000000\n",
              "max      600000.000000\n",
              "Name: salary_in_usd, dtype: float64"
            ]
          },
          "execution_count": 19,
          "metadata": {},
          "output_type": "execute_result"
        }
      ],
      "source": [
        "salaries['salary_in_usd'].describe()"
      ]
    },
    {
      "cell_type": "code",
      "execution_count": 20,
      "metadata": {},
      "outputs": [
        {
          "name": "stdout",
          "output_type": "stream",
          "text": [
            "Range: 597141\n",
            "Interquartile Range: 84238.0\n"
          ]
        }
      ],
      "source": [
        "minimum = np.min(salaries['salary_in_usd'])\n",
        "q1 = np.percentile(salaries[\"salary_in_usd\"], 25)\n",
        "q3 = np.percentile(salaries[\"salary_in_usd\"], 75)\n",
        "maximum = np.max(salaries[\"salary_in_usd\"])\n",
        "\n",
        "print(f\"Range: {maximum-minimum}\")\n",
        "print(f\"Interquartile Range: {q3-q1}\")"
      ]
    },
    {
      "cell_type": "code",
      "execution_count": 24,
      "metadata": {},
      "outputs": [
        {
          "data": {
            "text/plain": [
              "49"
            ]
          },
          "execution_count": 24,
          "metadata": {},
          "output_type": "execute_result"
        }
      ],
      "source": [
        "len(salaries['job_title'].unique())"
      ]
    },
    {
      "cell_type": "code",
      "execution_count": 10,
      "metadata": {},
      "outputs": [
        {
          "data": {
            "text/plain": [
              "job_title\n",
              "Data Scientist                              134\n",
              "Data Engineer                               129\n",
              "Data Analyst                                 97\n",
              "Machine Learning Engineer                    39\n",
              "Research Scientist                           16\n",
              "Data Architect                               11\n",
              "Data Science Manager                         10\n",
              "Machine Learning Scientist                    8\n",
              "Data Analytics Manager                        7\n",
              "Director of Data Science                      7\n",
              "Principal Data Scientist                      7\n",
              "Data Science Consultant                       7\n",
              "AI Scientist                                  6\n",
              "Big Data Engineer                             6\n",
              "Lead Data Engineer                            6\n",
              "Computer Vision Engineer                      6\n",
              "BI Data Analyst                               5\n",
              "Head of Data                                  5\n",
              "Applied Data Scientist                        5\n",
              "Data Engineering Manager                      5\n",
              "ML Engineer                                   4\n",
              "Analytics Engineer                            4\n",
              "Business Data Analyst                         4\n",
              "Head of Data Science                          4\n",
              "Data Analytics Engineer                       4\n",
              "Applied Machine Learning Scientist            4\n",
              "Machine Learning Infrastructure Engineer      3\n",
              "Machine Learning Developer                    3\n",
              "Principal Data Engineer                       3\n",
              "Data Science Engineer                         3\n",
              "Computer Vision Software Engineer             3\n",
              "Director of Data Engineering                  2\n",
              "Financial Data Analyst                        2\n",
              "Cloud Data Engineer                           2\n",
              "Product Data Analyst                          2\n",
              "Lead Data Scientist                           2\n",
              "ETL Developer                                 2\n",
              "Lead Data Analyst                             2\n",
              "Principal Data Analyst                        2\n",
              "NLP Engineer                                  1\n",
              "Lead Machine Learning Engineer                1\n",
              "Staff Data Scientist                          1\n",
              "3D Computer Vision Researcher                 1\n",
              "Big Data Architect                            1\n",
              "Finance Data Analyst                          1\n",
              "Data Specialist                               1\n",
              "Marketing Data Analyst                        1\n",
              "Machine Learning Manager                      1\n",
              "Data Analytics Lead                           1\n",
              "Name: count, dtype: int64"
            ]
          },
          "execution_count": 10,
          "metadata": {},
          "output_type": "execute_result"
        }
      ],
      "source": [
        "salaries['job_title'].value_counts()"
      ]
    },
    {
      "cell_type": "code",
      "execution_count": 11,
      "metadata": {},
      "outputs": [
        {
          "data": {
            "text/plain": [
              "experience_level\n",
              "SE    275\n",
              "MI    201\n",
              "EN     80\n",
              "EX     25\n",
              "Name: count, dtype: int64"
            ]
          },
          "execution_count": 11,
          "metadata": {},
          "output_type": "execute_result"
        }
      ],
      "source": [
        "salaries['experience_level'].value_counts()"
      ]
    },
    {
      "cell_type": "code",
      "execution_count": 12,
      "metadata": {},
      "outputs": [
        {
          "data": {
            "text/plain": [
              "company_size\n",
              "M    321\n",
              "L    182\n",
              "S     78\n",
              "Name: count, dtype: int64"
            ]
          },
          "execution_count": 12,
          "metadata": {},
          "output_type": "execute_result"
        }
      ],
      "source": [
        "salaries['company_size'].value_counts()"
      ]
    },
    {
      "cell_type": "code",
      "execution_count": 15,
      "metadata": {},
      "outputs": [
        {
          "data": {
            "image/png": "[encoded data removed]",
            "text/plain": [
              "<Figure size 800x400 with 1 Axes>"
            ]
          },
          "metadata": {},
          "output_type": "display_data"
        }
      ],
      "source": [
        "plt.figure(figsize=(8, 4))\n",
        "plt.hist(salaries[\"salary_in_usd\"], bins=50)\n",
        "plt.title(f'General Salary Distribution')\n",
        "plt.xlabel(\"Salary in USD\")\n",
        "plt.ylabel('Frequency')\n",
        "plt.show()"
      ]
    },
    {
      "cell_type": "markdown",
      "metadata": {},
      "source": [
        "## Section 1 Analysis:\n",
        "After viewing a few rows and columns in our data set, we took a closer look at each of the features of interest. Company size, experience level, and job title are all categorical variables with 3 types, 4 types, and 49 types respectively. While salary has three associated columns (salary, salary_in_usd, and salary currency), we chose to use the column salary_in_usd for further analysis, as it had been normalized into a singular currency type. The general salary distribution is fairly normal, with a noticeable outlier around 600000."
      ]
    },
    {
      "cell_type": "markdown",
      "metadata": {},
      "source": [
        "# Section 2: Effect of Experience on Salary"
      ]
    },
    {
      "cell_type": "code",
      "execution_count": 7,
      "metadata": {
        "colab": {
          "base_uri": "https://localhost:8080/",
          "height": 472
        },
        "id": "MSWcgQOlwN1e",
        "outputId": "8cb0c7d0-e562-4835-eaa5-f45fb92d2080"
      },
      "outputs": [
        {
          "data": {
            "image/png": "[encoded data removed]",
            "text/plain": [
              "<Figure size 640x480 with 1 Axes>"
            ]
          },
          "metadata": {},
          "output_type": "display_data"
        }
      ],
      "source": [
        "company_size = salaries['company_size'].unique()\n",
        "\n",
        "# Plot a histogram for each experience level\n",
        "for level in company_size:\n",
        "    plt.hist(salaries[salaries['company_size'] == level]['salary_in_usd'],\n",
        "             bins=10, alpha=0.5, label=level)\n",
        "\n",
        "plt.title('Salary Distribution by Company Size')\n",
        "plt.xlabel('Salary in USD')\n",
        "plt.ylabel('Frequency')\n",
        "plt.legend(title='Company Size')\n",
        "plt.show()"
      ]
    },
    {
      "cell_type": "code",
      "execution_count": 8,
      "metadata": {
        "colab": {
          "base_uri": "https://localhost:8080/",
          "height": 503
        },
        "id": "HMYs5hUExClw",
        "outputId": "9da9db54-d8fe-4413-9660-ac85a8227adf"
      },
      "outputs": [
        {
          "name": "stderr",
          "output_type": "stream",
          "text": [
            "C:\\Users\\brynne\\AppData\\Local\\Temp\\ipykernel_32816\\3554595196.py:16: MatplotlibDeprecationWarning: The 'labels' parameter of boxplot() has been renamed 'tick_labels' since Matplotlib 3.9; support for the old name will be dropped in 3.11.\n",
            "  plt.boxplot([analysts['salary_in_usd'], engineers['salary_in_usd'], managers['salary_in_usd'], scientists['salary_in_usd']], labels=['Analyst', 'Engineer', 'Manager', 'Scientist'])\n",
            "C:\\Users\\brynne\\AppData\\Local\\Temp\\ipykernel_32816\\3554595196.py:22: UserWarning: No artists with labels found to put in legend.  Note that artists whose label start with an underscore are ignored when legend() is called with no argument.\n",
            "  plt.legend(title='Company Size')\n"
          ]
        },
        {
          "data": {
            "image/png": "[encoded data removed]",
            "text/plain": [
              "<Figure size 2000x600 with 1 Axes>"
            ]
          },
          "metadata": {},
          "output_type": "display_data"
        }
      ],
      "source": [
        "company_size = salaries['job_title'].unique()\n",
        "plt.figure(figsize=(20, 6))  # Width=10, Height=6\n",
        "# Plot a histogram for each experience level\n",
        "\n",
        "analysts = salaries[salaries['job_title'].str.contains(\"Analyst\")]\n",
        "engineers = salaries[salaries['job_title'].str.contains(\"Engineer\")]\n",
        "managers = salaries[salaries['job_title'].str.contains(\"Manager\")]\n",
        "scientists = salaries[salaries['job_title'].str.contains(\"Scientist\")]\n",
        "\n",
        "\n",
        "#for level in company_size:\n",
        "    #if (len(analysts[analysts['job_title'] == level]) == 0): continue\n",
        "    #plt.box(analysts[analysts['job_title'] == level]['salary_in_usd'],\n",
        "             #bins=10, alpha=0.5, label=level)\n",
        "\n",
        "plt.boxplot([analysts['salary_in_usd'], engineers['salary_in_usd'], managers['salary_in_usd'], scientists['salary_in_usd']], labels=['Analyst', 'Engineer', 'Manager', 'Scientist'])\n",
        "\n",
        "\n",
        "plt.title('Salary Distribution by Company Size')\n",
        "plt.xlabel('Job Title')\n",
        "plt.ylabel('Salary')\n",
        "plt.legend(title='Company Size')\n",
        "plt.show()"
      ]
    }
  ],
  "metadata": {
    "colab": {
      "provenance": []
    },
    "kernelspec": {
      "display_name": "Python 3",
      "name": "python3"
    },
    "language_info": {
      "codemirror_mode": {
        "name": "ipython",
        "version": 3
      },
      "file_extension": ".py",
      "mimetype": "text/x-python",
      "name": "python",
      "nbconvert_exporter": "python",
      "pygments_lexer": "ipython3",
      "version": "3.12.1"
    }
  },
  "nbformat": 4,
  "nbformat_minor": 0
}
